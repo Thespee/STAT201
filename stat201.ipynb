{
 "cells": [
  {
   "cell_type": "code",
   "execution_count": null,
   "metadata": {},
   "outputs": [],
   "source": []
  },
  {
   "cell_type": "markdown",
   "metadata": {},
   "source": [
    "STAT 201 Group Project"
   ]
  }
 ],
 "metadata": {
  "kernelspec": {
   "display_name": "Python 3.10.0 64-bit",
   "language": "python",
   "name": "python3"
  },
  "language_info": {
   "name": "python",
   "version": "3.10.0"
  },
  "orig_nbformat": 4,
  "vscode": {
   "interpreter": {
    "hash": "c503f7b6122df8cbc81f5667b123e696eb32a3f77d1c35a3c806a7b712f534c1"
   }
  }
 },
 "nbformat": 4,
 "nbformat_minor": 2
}
