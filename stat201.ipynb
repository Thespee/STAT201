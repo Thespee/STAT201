{
 "cells": [
  {
   "cell_type": "markdown",
   "metadata": {},
   "source": [
    "# Effects of temperature on COVID-19"
   ]
  },
  {
   "cell_type": "markdown",
   "metadata": {},
   "source": [
    "# Introduction\n",
    "### About:\n",
    "This dataset includes data about the number of COVID-19 cases in different schools and municipalities in Canada, from September 2021 to December 2021. It has 10 variables, most of which could be different factors for the possible fluctuations in the number of COVID-19 cases. \n",
    "### The research question we will work towards answering:\n",
    "Does change in temperature (from September to December) affect the frequency of COVID-19 cases?\n",
    "### What variables are we looking at to answer our research question?\n",
    "Our primary explanatory variable is the `collected_date`, which we will manipulate to extract the month, as grouping this variable by month makes it easier to find the patterns and trends present. The `collected_date` variable includes data about when the sample with the SARS-Cov-2 virus was collected. As we do not have data about when the virus was caught, the closest date we have is when the virus sample was collected. \n",
    "Our response variable will be `total_confirmed_cases`, as we are interested in seeing how the number of COVID-19 cases changes as the months change. We are looking at this variable, since it includes the most substantial data, as it includes the confirmed cases of both students, staff and others at the school. \n",
    "### Describing our dataset:\n",
    "The multivariate dataset with data about COVID-19 cases in different school districts/municipalities was sourced from the Government of Canada. The 10 variables are:\n",
    "`collected_date` : The date when the sample with the SARS-CoV-2 virus was collected\n",
    "`reported_date` : The date when the sample with the SARS-CoV-2 virus was reported\n",
    "`school_board` : The name of the school board\n",
    "`school_id` : The identification number unique to the school\n",
    "`school` : The name of the school\n",
    "`municipality` : The name of the municipality that the school is located in\n",
    "`confirmed_student_cases` : The number of COVID-19 cases of students\n",
    "`confirmed_staff_cases` : The number of COVID-19 cases of staff\n",
    "`confirmed_unspecified_cases` : The number of COVID-19 cases of others present at the school\n",
    "`total_confirmed_cases` : The sum of all COVID-19 cases reported\n",
    "### Scientific papers used\n",
    "We will be making use of research papers that outline the correlation between the change in season and the number/severity of COVID-19 cases to aid in our research about the change in temperature affecting the frequency of COVID-19 cases. These research papers use data collected in different regions than our data, so we will generalise these findings to our own dataset. \n"
   ]
  },
  {
   "cell_type": "markdown",
   "metadata": {},
   "source": [
    "# Preliminary Results\n",
    "- Demonstrate that the dataset can be read from the web into R.\n",
    "- Clean and wrangle your data into a tidy format.\n",
    "- Plot the relevant raw data, tailoring your plot in a way that addresses your question.\n",
    "- Compute estimates of the parameter you identified across your groups. Present this in a table. If relevant, include these estimates in your plot.\n"
   ]
  },
  {
   "cell_type": "code",
   "execution_count": null,
   "metadata": {
    "vscode": {
     "languageId": "r"
    }
   },
   "outputs": [],
   "source": [
    "# Loading libraries\n",
    "library(tidyverse)\n",
    "library(datateachr)\n",
    "library(repr)\n",
    "library(digest)\n",
    "library(infer)\n",
    "library(grid)\n",
    "library(gridExtra)\n",
    "#reading data\n",
    "data <- read.csv(file = \"schoolrecentcovid2021_2022\")\n",
    "# Cleaning up data: only selecting relevant columns and isolating the month variable:\n",
    "case_data <- data %>%\n",
    "    mutate(date = as.Date(collected_date, format = \"%Y-%m-%d\")) %>%\n",
    "    mutate(month = format(date, \"%m\")) %>% \n",
    "    select(month,total_confirmed_cases)\n",
    "#finding the average by month:\n",
    "case_by_month <- case_data %>% \n",
    "    group_by(month) %>%\n",
    "    summarize(mean = mean(total_confirmed_cases))\n",
    "case_by_month\n",
    "# Drawing histogram and distinguishing by colour: \n",
    "case_dist <- case_data %>%\n",
    "    ggplot(aes(x = total_confirmed_cases, colour = month)) +\n",
    "    geom_histogram(binwidth = 1) +\n",
    "    xlab(\"Number of cases\") +\n",
    "    ggtitle(\"Distrubution of case occurances\")\n",
    "case_dist"
   ]
  },
  {
   "cell_type": "markdown",
   "metadata": {},
   "source": [
    "# Methods: Plan\n",
    "What methods and plots will be used to examine the question (should include one hypothesis test and one CI)\n",
    "Null hypothesis: There is no variation in the number of COVID-19 cases from September to December.\n",
    "Alternative hypothesis: There is a statistically significant change in cases from September to December. \n",
    "### What do we expect to find?\n",
    "As per previous research, it is found that the colder months of the year are the months in which the number of COVID-19 cases skyrocket, due to many secondary factors such as the variation in environmental variables and human behaviour, to name a few. We are expecting these findings to match our own results, by looking at the change frequency of COVID-19 cases from September to December. \n",
    "### What impact could such findings have?\n",
    "If we reject our null hypothesis, these findings could urge policy makers and governments to call for extra precautions during the months in which the cases skyrocket, in order to ensure a healthy and safe population. This could also lead to other studies being held about the effect of temperature on other respiratory illnesses. These findings could also be generalised and applied to any potential epidemics/pandemics later on. \n",
    "\n",
    "### What future questions could this lead to?\n",
    "This could lead to further research about other respiratory illnesses, or even other airborne illnesses/diseases. Additionally, the results of this study could also raise questions about the change in temperature in the rest of the seasons of the year (increase in temperature). \n",
    "\n"
   ]
  },
  {
   "cell_type": "markdown",
   "metadata": {},
   "source": [
    "# References\n",
    "- https://www.ncbi.nlm.nih.gov/pmc/articles/PMC7892320/\n",
    "- https://bmcinfectdis.biomedcentral.com/articles/10.1186/s12879-021-06785-2\n",
    "- https://www.annualreviews.org/doi/10.1146/annurev-virology-012420-022445\n"
   ]
  },
  {
   "cell_type": "markdown",
   "metadata": {},
   "source": []
  }
 ],
 "metadata": {
  "kernelspec": {
   "display_name": "Python 3.10.0 64-bit",
   "language": "python",
   "name": "python3"
  },
  "language_info": {
   "name": "python",
   "version": "3.10.0"
  },
  "orig_nbformat": 4,
  "vscode": {
   "interpreter": {
    "hash": "c503f7b6122df8cbc81f5667b123e696eb32a3f77d1c35a3c806a7b712f534c1"
   }
  }
 },
 "nbformat": 4,
 "nbformat_minor": 2
}
