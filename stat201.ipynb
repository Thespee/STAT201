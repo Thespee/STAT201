{
 "cells": [
  {
   "cell_type": "markdown",
   "metadata": {},
   "source": [
    "# Title"
   ]
  },
  {
   "cell_type": "markdown",
   "metadata": {},
   "source": [
    "# Introduction\n",
    "- Research question\n",
    "- Location variable used (mean median qualtiles)\n",
    "- Scale parameter of interest (sd, IQR)\n",
    "- Introduciton to data used\n",
    "- Scientific papers used"
   ]
  },
  {
   "cell_type": "markdown",
   "metadata": {},
   "source": [
    "# Preliminary Results\n",
    "- Demonstrate that the dataset can be read from the web into R.\n",
    "- Clean and wrangle your data into a tidy format.\n",
    "- Plot the relevant raw data, tailoring your plot in a way that addresses your question.\n",
    "- Compute estimates of the parameter you identified across your groups. Present this in a table. If relevant, include these estimates in your plot.\n"
   ]
  },
  {
   "cell_type": "code",
   "execution_count": null,
   "metadata": {
    "vscode": {
     "languageId": "r"
    }
   },
   "outputs": [],
   "source": [
    "data <- read.csv(file = \"schoolrecentcovid2021_2022\")\n",
    "head(data)"
   ]
  },
  {
   "cell_type": "markdown",
   "metadata": {},
   "source": [
    "# Methods: Plan\n",
    "- What methods and plots will be used to examine the question (should include one hypothesis test and one CI)\n",
    "- What do you expect to find?\n",
    "- What impact could such findings have?\n",
    "- What future questions could this lead to?\n"
   ]
  },
  {
   "cell_type": "markdown",
   "metadata": {},
   "source": [
    "# References"
   ]
  }
 ],
 "metadata": {
  "kernelspec": {
   "display_name": "Python 3.10.0 64-bit",
   "language": "python",
   "name": "python3"
  },
  "language_info": {
   "name": "python",
   "version": "3.10.0"
  },
  "orig_nbformat": 4,
  "vscode": {
   "interpreter": {
    "hash": "c503f7b6122df8cbc81f5667b123e696eb32a3f77d1c35a3c806a7b712f534c1"
   }
  }
 },
 "nbformat": 4,
 "nbformat_minor": 2
}
